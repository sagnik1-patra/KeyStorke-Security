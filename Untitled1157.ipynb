{
 "cells": [
  {
   "cell_type": "code",
   "execution_count": 1,
   "id": "fa8af852-c1ce-4e55-b350-10a640d6432d",
   "metadata": {},
   "outputs": [
    {
     "name": "stdout",
     "output_type": "stream",
     "text": [
      "✅ Loading model and encoder...\n"
     ]
    },
    {
     "name": "stderr",
     "output_type": "stream",
     "text": [
      "WARNING:absl:Compiled the loaded model, but the compiled metrics have yet to be built. `model.compile_metrics` will be empty until you train or evaluate the model.\n"
     ]
    },
    {
     "name": "stdin",
     "output_type": "stream",
     "text": [
      "📂 Enter path to the keystroke CSV for prediction:  C:\\Users\\sagni\\Downloads\\KeyStrock Security\\Data\\Annan_Sadr.csv\n"
     ]
    },
    {
     "name": "stdout",
     "output_type": "stream",
     "text": [
      "\u001b[1m1/1\u001b[0m \u001b[32m━━━━━━━━━━━━━━━━━━━━\u001b[0m\u001b[37m\u001b[0m \u001b[1m0s\u001b[0m 244ms/step\n",
      "\n",
      "🔍 Predicted Typing Users:\n",
      "  ➤ Typing Sample 1 was by: user2\n",
      "  ➤ Typing Sample 2 was by: user3\n",
      "  ➤ Typing Sample 3 was by: user3\n",
      "  ➤ Typing Sample 4 was by: user3\n",
      "  ➤ Typing Sample 5 was by: user3\n",
      "\n",
      "📊 Prediction Confidence:\n",
      "  ➤ Sample 1 (user2): 26.70%\n",
      "  ➤ Sample 2 (user3): 26.10%\n",
      "  ➤ Sample 3 (user3): 25.97%\n",
      "  ➤ Sample 4 (user3): 26.08%\n",
      "  ➤ Sample 5 (user3): 27.83%\n"
     ]
    }
   ],
   "source": [
    "import pandas as pd\n",
    "import numpy as np\n",
    "from keras.models import load_model\n",
    "from sklearn.preprocessing import LabelEncoder\n",
    "import joblib\n",
    "import os\n",
    "\n",
    "# Constants\n",
    "MODEL_PATH = r\"C:\\Users\\sagni\\Downloads\\KeyStrock Security\\Data\\keystroke_model.h5\"\n",
    "ENCODER_PATH = r\"C:\\Users\\sagni\\Downloads\\KeyStrock Security\\Data\\label_encoder.pkl\"\n",
    "\n",
    "def load_input_features(file_path):\n",
    "    df = pd.read_csv(file_path)\n",
    "\n",
    "    # Drop 'user' column if exists\n",
    "    if 'user' in df.columns:\n",
    "        df = df.drop(columns=['user'])\n",
    "\n",
    "    return df.values\n",
    "\n",
    "def main():\n",
    "    # Load the trained model and label encoder\n",
    "    if not os.path.exists(MODEL_PATH) or not os.path.exists(ENCODER_PATH):\n",
    "        print(\"❌ Model or encoder file not found. Make sure both are saved in the current directory.\")\n",
    "        return\n",
    "\n",
    "    print(\"✅ Loading model and encoder...\")\n",
    "    model = load_model(MODEL_PATH)\n",
    "    label_encoder = joblib.load(ENCODER_PATH)\n",
    "\n",
    "    # Ask user to input path to test CSV\n",
    "    test_path = input(\"📂 Enter path to the keystroke CSV for prediction: \").strip()\n",
    "\n",
    "    if not os.path.exists(test_path):\n",
    "        print(\"❌ Provided file does not exist.\")\n",
    "        return\n",
    "\n",
    "    try:\n",
    "        # Load test input\n",
    "        test_features = load_input_features(test_path)\n",
    "\n",
    "        # Predict\n",
    "        predictions = model.predict(test_features)\n",
    "        predicted_classes = np.argmax(predictions, axis=1)\n",
    "        decoded_users = label_encoder.inverse_transform(predicted_classes)\n",
    "\n",
    "        print(\"\\n🔍 Predicted Typing Users:\")\n",
    "        for i, user in enumerate(decoded_users):\n",
    "            print(f\"  ➤ Typing Sample {i+1} was by: {user}\")\n",
    "\n",
    "        # Optionally print confidence\n",
    "        print(\"\\n📊 Prediction Confidence:\")\n",
    "        for i, prob in enumerate(predictions):\n",
    "            top_user = decoded_users[i]\n",
    "            top_prob = np.max(prob)\n",
    "            print(f\"  ➤ Sample {i+1} ({top_user}): {top_prob * 100:.2f}%\")\n",
    "\n",
    "    except Exception as e:\n",
    "        print(f\"❌ Error during prediction: {e}\")\n",
    "\n",
    "if __name__ == \"__main__\":\n",
    "    main()\n"
   ]
  },
  {
   "cell_type": "code",
   "execution_count": null,
   "id": "8301f665-2c8b-4779-b948-beca189164e9",
   "metadata": {},
   "outputs": [],
   "source": []
  }
 ],
 "metadata": {
  "kernelspec": {
   "display_name": "Python 3.11 (moviepy)",
   "language": "python",
   "name": "py311"
  },
  "language_info": {
   "codemirror_mode": {
    "name": "ipython",
    "version": 3
   },
   "file_extension": ".py",
   "mimetype": "text/x-python",
   "name": "python",
   "nbconvert_exporter": "python",
   "pygments_lexer": "ipython3",
   "version": "3.11.9"
  }
 },
 "nbformat": 4,
 "nbformat_minor": 5
}
